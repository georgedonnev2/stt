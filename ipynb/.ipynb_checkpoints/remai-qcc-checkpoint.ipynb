{
 "cells": [
  {
   "cell_type": "code",
   "execution_count": 1,
   "id": "b57f418c-9e9a-42b5-92b9-c3aa11523e47",
   "metadata": {},
   "outputs": [
    {
     "ename": "ModuleNotFoundError",
     "evalue": "No module named 'selenium'",
     "output_type": "error",
     "traceback": [
      "\u001b[0;31m---------------------------------------------------------------------------\u001b[0m",
      "\u001b[0;31mModuleNotFoundError\u001b[0m                       Traceback (most recent call last)",
      "Cell \u001b[0;32mIn[1], line 1\u001b[0m\n\u001b[0;32m----> 1\u001b[0m \u001b[38;5;28;01mfrom\u001b[39;00m\u001b[38;5;250m \u001b[39m\u001b[38;5;21;01mselenium\u001b[39;00m\u001b[38;5;250m \u001b[39m\u001b[38;5;28;01mimport\u001b[39;00m webdriver\n\u001b[1;32m      2\u001b[0m \u001b[38;5;28;01mfrom\u001b[39;00m\u001b[38;5;250m \u001b[39m\u001b[38;5;21;01mselenium\u001b[39;00m\u001b[38;5;21;01m.\u001b[39;00m\u001b[38;5;21;01mwebdriver\u001b[39;00m\u001b[38;5;21;01m.\u001b[39;00m\u001b[38;5;21;01mchrome\u001b[39;00m\u001b[38;5;21;01m.\u001b[39;00m\u001b[38;5;21;01moptions\u001b[39;00m\u001b[38;5;250m \u001b[39m\u001b[38;5;28;01mimport\u001b[39;00m Options\n\u001b[1;32m      3\u001b[0m \u001b[38;5;28;01mfrom\u001b[39;00m\u001b[38;5;250m \u001b[39m\u001b[38;5;21;01mselenium\u001b[39;00m\u001b[38;5;21;01m.\u001b[39;00m\u001b[38;5;21;01mwebdriver\u001b[39;00m\u001b[38;5;21;01m.\u001b[39;00m\u001b[38;5;21;01mchrome\u001b[39;00m\u001b[38;5;21;01m.\u001b[39;00m\u001b[38;5;21;01mservice\u001b[39;00m\u001b[38;5;250m \u001b[39m\u001b[38;5;28;01mimport\u001b[39;00m Service\n",
      "\u001b[0;31mModuleNotFoundError\u001b[0m: No module named 'selenium'"
     ]
    }
   ],
   "source": [
    "from selenium import webdriver\n",
    "from selenium.webdriver.chrome.options import Options\n",
    "from selenium.webdriver.chrome.service import Service\n",
    "from selenium.webdriver.common.by import By\n",
    "\n",
    "import time\n"
   ]
  },
  {
   "cell_type": "code",
   "execution_count": null,
   "id": "63150b60-8d6f-47b6-9805-a738bcd3fdfb",
   "metadata": {},
   "outputs": [],
   "source": [
    "# set some options for Chrome\n",
    "b_option = Options()\n",
    "b_option.add_argument(\"--no-sandbox\")\n",
    "b_option.add_experimental_option(name=\"detach\", value=True)"
   ]
  },
  {
   "cell_type": "code",
   "execution_count": null,
   "id": "80a29144-324e-4ed5-84b0-8d9b872ca2da",
   "metadata": {},
   "outputs": [],
   "source": [
    "# get a browser\n",
    "g_browser = webdriver.Chrome(\n",
    "    service=Service(\"/usr/local/bin/chromedriver\"), options=b_option\n",
    ")\n",
    "g_browser.implicitly_wait(30)"
   ]
  },
  {
   "cell_type": "code",
   "execution_count": null,
   "id": "a864708e-7eeb-4086-819d-a5a709b603da",
   "metadata": {},
   "outputs": [],
   "source": [
    "# open qcc\n",
    "g_browser.get(\"https://www.qcc.com/\")\n",
    "# time.sleep(30)  # to scan QR to login."
   ]
  },
  {
   "cell_type": "code",
   "execution_count": null,
   "id": "578f4e37-d9f4-4c48-b65a-4551147bb49f",
   "metadata": {},
   "outputs": [],
   "source": [
    "# input company to search and open detail page\n",
    "g_browser.maximize_window()\n",
    "input_box = g_browser.find_element(By.ID, value=\"searchKey\")\n",
    "input_box.clear()\n",
    "input_box.send_keys(\"腾讯科技（深圳）有限公司\")\n",
    "search_btn = g_browser.find_element(By.CLASS_NAME, value=\"input-group-btn\")\n",
    "search_btn.click()\n",
    "\n",
    "maininfo = g_browser.find_element(\n",
    "    By.XPATH,\n",
    "    value=\"/html/body/div[1]/div[2]/div[2]/div[3]/div/div[2]/div/table/tr[1]/td[3]/div[2]/span/span[1]/a\",\n",
    ")\n",
    "maininfo.click()"
   ]
  },
  {
   "cell_type": "code",
   "execution_count": null,
   "id": "410b750c-4818-4b0e-8a6b-0aba59e0fd6b",
   "metadata": {},
   "outputs": [],
   "source": [
    "# switch to detail page\n",
    "g_browser.switch_to.window(g_browser.window_handles[-1])\n",
    "company_name_h1 = g_browser.find_element(By.TAG_NAME, value=\"h1\")"
   ]
  }
 ],
 "metadata": {
  "kernelspec": {
   "display_name": "Python 3 (ipykernel)",
   "language": "python",
   "name": "python3"
  },
  "language_info": {
   "codemirror_mode": {
    "name": "ipython",
    "version": 3
   },
   "file_extension": ".py",
   "mimetype": "text/x-python",
   "name": "python",
   "nbconvert_exporter": "python",
   "pygments_lexer": "ipython3",
   "version": "3.13.2"
  }
 },
 "nbformat": 4,
 "nbformat_minor": 5
}
