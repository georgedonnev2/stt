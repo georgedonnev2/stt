{
 "cells": [
  {
   "cell_type": "code",
   "execution_count": 48,
   "id": "b57f418c-9e9a-42b5-92b9-c3aa11523e47",
   "metadata": {},
   "outputs": [],
   "source": [
    "#!/usr/bin/env python3\n",
    "# -*- coding: utf-8 -*-\n",
    "\n",
    "from selenium import webdriver\n",
    "from selenium.webdriver.chrome.options import Options\n",
    "from selenium.webdriver.chrome.service import Service\n",
    "from selenium.webdriver.common.by import By\n",
    "\n",
    "import time\n",
    "\n",
    "import logging\n",
    "\n",
    "logging.basicConfig(level=logging.INFO)\n"
   ]
  },
  {
   "cell_type": "code",
   "execution_count": 49,
   "id": "63150b60-8d6f-47b6-9805-a738bcd3fdfb",
   "metadata": {},
   "outputs": [],
   "source": [
    "# set some options for Chrome\n",
    "b_option = Options()\n",
    "b_option.add_argument(\"--no-sandbox\")\n",
    "# b_option.add_argument(\"--headless\")\n",
    "b_option.add_argument(\n",
    "    \"user-agent=Mozilla/5.0 (Macintosh; Intel Mac OS X 10_15_7) AppleWebKit/537.36 (KHTML, like Gecko) Chrome/133.0.0.0 Safari/537.36\"\n",
    ")\n",
    "b_option.add_experimental_option(name=\"detach\", value=True)"
   ]
  },
  {
   "cell_type": "code",
   "execution_count": 50,
   "id": "80a29144-324e-4ed5-84b0-8d9b872ca2da",
   "metadata": {},
   "outputs": [],
   "source": [
    "# get a browser\n",
    "g_browser = webdriver.Chrome(\n",
    "    service=Service(\"/usr/local/bin/chromedriver\"), options=b_option\n",
    ")\n",
    "g_browser.implicitly_wait(30)"
   ]
  },
  {
   "cell_type": "code",
   "execution_count": 51,
   "id": "a864708e-7eeb-4086-819d-a5a709b603da",
   "metadata": {},
   "outputs": [
    {
     "name": "stderr",
     "output_type": "stream",
     "text": [
      "INFO:root:open qcc.\n",
      "INFO:root:opened.\n"
     ]
    }
   ],
   "source": [
    "# open qcc\n",
    "logging.info(f\"open qcc.\")\n",
    "g_browser.get(\"https://www.qcc.com/\")\n",
    "# time.sleep(30)  # to scan QR to login.\n",
    "logging.info(\"opened.\")"
   ]
  },
  {
   "cell_type": "code",
   "execution_count": 52,
   "id": "578f4e37-d9f4-4c48-b65a-4551147bb49f",
   "metadata": {},
   "outputs": [
    {
     "name": "stderr",
     "output_type": "stream",
     "text": [
      "INFO:root:input company name and search.\n",
      "INFO:root:searched.\n"
     ]
    }
   ],
   "source": [
    "# g_browser.maximize_window()\n",
    "logging.info(\"input company name and search.\")\n",
    "input_box = g_browser.find_element(By.ID, value=\"searchKey\")\n",
    "input_box.clear()\n",
    "input_box.send_keys(\"腾讯科技（深圳）有限公司\")\n",
    "time.sleep(3)\n",
    "search_btn = g_browser.find_element(By.CLASS_NAME, value=\"input-group-btn\")\n",
    "search_btn.click()\n",
    "time.sleep(3)\n",
    "logging.info(\"searched.\")\n",
    "\n"
   ]
  },
  {
   "cell_type": "code",
   "execution_count": null,
   "id": "dae5f5dd",
   "metadata": {},
   "outputs": [],
   "source": [
    "logging.info(\"get link of detailinfo\")\n",
    "maininfo = g_browser.find_element(\n",
    "    By.XPATH,\n",
    "    value=\"/html/body/div/div[2]/div[2]/div[3]/div/div[2]/div/table/tr[1]/td[3]/div/span/span[1]/a\",\n",
    ")\n",
    "# maininfo = g_browser.find_element(\n",
    "#     By.XPATH,\n",
    "#     value=\"/html/body/div[1]/div[2]/div[2]/div[3]/div/div[2]/div/table/tr[1]/td[3]/div[2]/span/span[1]/a\",\n",
    "# )\n",
    "\n",
    "logging.info(f\"maininfo={maininfo}\")\n",
    "\n",
    "maininfo.click()"
   ]
  },
  {
   "cell_type": "code",
   "execution_count": null,
   "id": "410b750c-4818-4b0e-8a6b-0aba59e0fd6b",
   "metadata": {},
   "outputs": [],
   "source": [
    "# switch to detail page\n",
    "print(f\"winh={g_browser.window_handles}\")\n",
    "g_browser.switch_to.window(g_browser.window_handles[-1])\n",
    "company_name_h1 = g_browser.find_element(By.TAG_NAME, value=\"h1\")\n",
    "print(f\"company_name={company_name_h1}, company={company_name_h1.text}\")"
   ]
  },
  {
   "cell_type": "code",
   "execution_count": null,
   "id": "902903ec",
   "metadata": {},
   "outputs": [],
   "source": [
    "ntable = g_browser.find_element(By.CLASS_NAME, value=\"ntable\")\n",
    "print(f\"ntable={ntable}\")"
   ]
  }
 ],
 "metadata": {
  "kernelspec": {
   "display_name": "Python 3",
   "language": "python",
   "name": "python3"
  },
  "language_info": {
   "codemirror_mode": {
    "name": "ipython",
    "version": 3
   },
   "file_extension": ".py",
   "mimetype": "text/x-python",
   "name": "python",
   "nbconvert_exporter": "python",
   "pygments_lexer": "ipython3",
   "version": "3.11.4"
  }
 },
 "nbformat": 4,
 "nbformat_minor": 5
}
